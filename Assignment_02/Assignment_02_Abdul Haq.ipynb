{
  "cells": [
    {
      "cell_type": "markdown",
      "metadata": {
        "id": "JBiij_b1_BEL"
      },
      "source": [
        "# Baby Births Data Analysis"
      ]
    },
    {
      "cell_type": "markdown",
      "metadata": {
        "id": "F5OBeDD2-vN8"
      },
      "source": [
        "This assessment uses data from the United States Social Security Administration (SSA) which contains names of babies born between 1991 and 2010\n",
        "\n",
        "In particular, we are provided with yearly files, from “yob1991.csv’ all the way to “yob2010.csv”. Each of these files contains information such as name, sex, total number and the year of births.\n",
        "\n",
        "The objectives of this assessment are as follows:\n",
        "1. Data handling by combining multiple datasets\n",
        "2. Visualize the total male and female babies over time\n",
        "3. Tabulate the most and least popular baby names\n",
        "4. Analyze trends in names."
      ]
    },
    {
      "cell_type": "markdown",
      "metadata": {
        "id": "C-kZjGgC_PPr"
      },
      "source": [
        "## Task 1:\n",
        "Write a loop to concatenate (vertically) each of these files to form one big file. Call this big file as ‘full_data’. Using the data, compute the following statistics and report them as Table 1: (a) total number of observations, (b) total unique names, (c) total births, and (d) average births per unique name.\n",
        "\n"
      ]
    },
    {
      "cell_type": "code",
      "execution_count": 2,
      "metadata": {
        "id": "PAz50i15_Rcl"
      },
      "outputs": [
        {
          "data": {
            "text/html": [
              "<div>\n",
              "<style scoped>\n",
              "    .dataframe tbody tr th:only-of-type {\n",
              "        vertical-align: middle;\n",
              "    }\n",
              "\n",
              "    .dataframe tbody tr th {\n",
              "        vertical-align: top;\n",
              "    }\n",
              "\n",
              "    .dataframe thead th {\n",
              "        text-align: right;\n",
              "    }\n",
              "</style>\n",
              "<table border=\"1\" class=\"dataframe\">\n",
              "  <thead>\n",
              "    <tr style=\"text-align: right;\">\n",
              "      <th></th>\n",
              "      <th>name</th>\n",
              "      <th>sex</th>\n",
              "      <th>births</th>\n",
              "      <th>year</th>\n",
              "    </tr>\n",
              "  </thead>\n",
              "  <tbody>\n",
              "    <tr>\n",
              "      <th>0</th>\n",
              "      <td>Ashley</td>\n",
              "      <td>F</td>\n",
              "      <td>43482</td>\n",
              "      <td>1991</td>\n",
              "    </tr>\n",
              "    <tr>\n",
              "      <th>1</th>\n",
              "      <td>Jessica</td>\n",
              "      <td>F</td>\n",
              "      <td>43396</td>\n",
              "      <td>1991</td>\n",
              "    </tr>\n",
              "    <tr>\n",
              "      <th>2</th>\n",
              "      <td>Brittany</td>\n",
              "      <td>F</td>\n",
              "      <td>29091</td>\n",
              "      <td>1991</td>\n",
              "    </tr>\n",
              "    <tr>\n",
              "      <th>3</th>\n",
              "      <td>Amanda</td>\n",
              "      <td>F</td>\n",
              "      <td>28884</td>\n",
              "      <td>1991</td>\n",
              "    </tr>\n",
              "    <tr>\n",
              "      <th>4</th>\n",
              "      <td>Samantha</td>\n",
              "      <td>F</td>\n",
              "      <td>25648</td>\n",
              "      <td>1991</td>\n",
              "    </tr>\n",
              "  </tbody>\n",
              "</table>\n",
              "</div>"
            ],
            "text/plain": [
              "       name sex  births  year\n",
              "0    Ashley   F   43482  1991\n",
              "1   Jessica   F   43396  1991\n",
              "2  Brittany   F   29091  1991\n",
              "3    Amanda   F   28884  1991\n",
              "4  Samantha   F   25648  1991"
            ]
          },
          "execution_count": 2,
          "metadata": {},
          "output_type": "execute_result"
        }
      ],
      "source": [
        "lst=['yob1991.csv','yob1992.csv','yob1993.csv','yob1994.csv','yob1995.csv','yob1996.csv','yob1997.csv','yob1998.csv','yob1999.csv','yob2000.csv','yob2001.csv','yob2002.csv','yob2003.csv','yob2004.csv','yob2005.csv','yob2006.csv','yob2007.csv','yob2008.csv','yob2009.csv','yob2010.csv']\n",
        "import pandas as pd \n",
        "full_data=[]\n",
        "for i in lst:\n",
        "    full_data.append(pd.read_csv(i))\n",
        "data=pd.concat(full_data,ignore_index=True)\n",
        "data.head()"
      ]
    },
    {
      "cell_type": "markdown",
      "metadata": {},
      "source": [
        "Total observation"
      ]
    },
    {
      "cell_type": "code",
      "execution_count": 3,
      "metadata": {},
      "outputs": [
        {
          "name": "stdout",
          "output_type": "stream",
          "text": [
            "<class 'pandas.core.frame.DataFrame'>\n",
            "RangeIndex: 596931 entries, 0 to 596930\n",
            "Data columns (total 4 columns):\n",
            " #   Column  Non-Null Count   Dtype \n",
            "---  ------  --------------   ----- \n",
            " 0   name    596931 non-null  object\n",
            " 1   sex     596931 non-null  object\n",
            " 2   births  596931 non-null  int64 \n",
            " 3   year    596931 non-null  int64 \n",
            "dtypes: int64(2), object(2)\n",
            "memory usage: 18.2+ MB\n"
          ]
        }
      ],
      "source": [
        "data.info()"
      ]
    },
    {
      "cell_type": "markdown",
      "metadata": {},
      "source": [
        "Total Observation\n",
        "596931 "
      ]
    },
    {
      "cell_type": "markdown",
      "metadata": {},
      "source": [
        "Unique names"
      ]
    },
    {
      "cell_type": "code",
      "execution_count": 4,
      "metadata": {},
      "outputs": [
        {
          "data": {
            "text/plain": [
              "66648"
            ]
          },
          "execution_count": 4,
          "metadata": {},
          "output_type": "execute_result"
        }
      ],
      "source": [
        "unique=data['name'].unique()\n",
        "s=pd.Series(unique)\n",
        "s.count()"
      ]
    },
    {
      "cell_type": "code",
      "execution_count": 5,
      "metadata": {},
      "outputs": [
        {
          "data": {
            "text/plain": [
              "name\n",
              "Aaban         6.666667\n",
              "Aabid         5.000000\n",
              "Aabriella     5.000000\n",
              "Aadam         7.235294\n",
              "Aadan        13.800000\n",
              "               ...    \n",
              "Zyshonne     16.833333\n",
              "Zytavious     6.142857\n",
              "Zyvion        5.000000\n",
              "Zyyanna       6.000000\n",
              "Zzyzx         5.000000\n",
              "Name: births, Length: 66648, dtype: float64"
            ]
          },
          "execution_count": 5,
          "metadata": {},
          "output_type": "execute_result"
        }
      ],
      "source": [
        "data.groupby('name')['births'].mean()"
      ]
    },
    {
      "cell_type": "code",
      "execution_count": 6,
      "metadata": {},
      "outputs": [
        {
          "data": {
            "text/plain": [
              "Ashley       40\n",
              "Bobbie       40\n",
              "Alex         40\n",
              "Jael         40\n",
              "Bryan        40\n",
              "             ..\n",
              "Deshera       1\n",
              "Floria        1\n",
              "Deangelis     1\n",
              "Melenaite     1\n",
              "Zzyzx         1\n",
              "Name: name, Length: 66648, dtype: int64"
            ]
          },
          "execution_count": 6,
          "metadata": {},
          "output_type": "execute_result"
        }
      ],
      "source": [
        "data['name'].value_counts()"
      ]
    },
    {
      "cell_type": "markdown",
      "metadata": {},
      "source": [
        "Total unique Name are\n",
        "66648"
      ]
    },
    {
      "cell_type": "markdown",
      "metadata": {},
      "source": [
        "Total births"
      ]
    },
    {
      "cell_type": "code",
      "execution_count": 7,
      "metadata": {},
      "outputs": [
        {
          "data": {
            "text/plain": [
              "75509584"
            ]
          },
          "execution_count": 7,
          "metadata": {},
          "output_type": "execute_result"
        }
      ],
      "source": [
        "data['births'].sum()"
      ]
    },
    {
      "cell_type": "markdown",
      "metadata": {},
      "source": [
        "Total births are  75509584"
      ]
    },
    {
      "cell_type": "code",
      "execution_count": 8,
      "metadata": {},
      "outputs": [
        {
          "data": {
            "text/html": [
              "<div>\n",
              "<style scoped>\n",
              "    .dataframe tbody tr th:only-of-type {\n",
              "        vertical-align: middle;\n",
              "    }\n",
              "\n",
              "    .dataframe tbody tr th {\n",
              "        vertical-align: top;\n",
              "    }\n",
              "\n",
              "    .dataframe thead th {\n",
              "        text-align: right;\n",
              "    }\n",
              "</style>\n",
              "<table border=\"1\" class=\"dataframe\">\n",
              "  <thead>\n",
              "    <tr style=\"text-align: right;\">\n",
              "      <th></th>\n",
              "      <th>Total Observation</th>\n",
              "      <th>Total unique Names</th>\n",
              "      <th>Total births</th>\n",
              "    </tr>\n",
              "  </thead>\n",
              "  <tbody>\n",
              "    <tr>\n",
              "      <th>0</th>\n",
              "      <td>596931</td>\n",
              "      <td>66648</td>\n",
              "      <td>75509584</td>\n",
              "    </tr>\n",
              "  </tbody>\n",
              "</table>\n",
              "</div>"
            ],
            "text/plain": [
              "   Total Observation  Total unique Names  Total births\n",
              "0             596931               66648      75509584"
            ]
          },
          "execution_count": 8,
          "metadata": {},
          "output_type": "execute_result"
        }
      ],
      "source": [
        " pd.DataFrame({'Total Observation':[596931],'Total unique Names':[66648],'Total births':[75509584]})"
      ]
    },
    {
      "cell_type": "markdown",
      "metadata": {
        "id": "t6su9Gtg_STj"
      },
      "source": [
        "## Task 2:\n",
        "Create a pivot table of total births by sex and year and then plot them as Figure 1."
      ]
    },
    {
      "cell_type": "code",
      "execution_count": 27,
      "metadata": {
        "id": "mAkAre5I_Rmw"
      },
      "outputs": [
        {
          "data": {
            "text/plain": [
              "year\n",
              "1991    1874110\n",
              "1992    1842818\n",
              "1993    1807795\n",
              "1994    1784407\n",
              "1995    1757240\n",
              "1996    1751681\n",
              "1997    1739331\n",
              "1998    1765390\n",
              "1999    1772139\n",
              "2000    1813960\n",
              "2001    1798284\n",
              "2002    1794358\n",
              "2003    1824406\n",
              "2004    1833005\n",
              "2005    1843890\n",
              "2006    1896468\n",
              "2007    1916888\n",
              "2008    1883645\n",
              "2009    1827643\n",
              "2010    1759010\n",
              "Name: F, dtype: int64"
            ]
          },
          "execution_count": 27,
          "metadata": {},
          "output_type": "execute_result"
        }
      ],
      "source": [
        "# pd.pivot_table(data, index=[\"Survived\"], columns=[\"Sex\"], values=[\"Fare\"], aggfunc=\"mean\")\n",
        "import matplotlib.pyplot as plt\n",
        "import numpy as np\n",
        "Total_birth_by_year_and_sex=pd.pivot_table(data,index='year',columns='sex' ,values='births', aggfunc='sum')\n",
        "Females=Total_birth_by_year_and_sex[\"F\"]\n",
        "Females\n"
      ]
    },
    {
      "cell_type": "code",
      "execution_count": 44,
      "metadata": {},
      "outputs": [
        {
          "data": {
            "text/plain": [
              "Text(0.5, 1.0, 'Female births vs year')"
            ]
          },
          "execution_count": 44,
          "metadata": {},
          "output_type": "execute_result"
        },
        {
          "data": {
            "image/png": "[encoded data removed]",
            "text/plain": [
              "<Figure size 432x288 with 1 Axes>"
            ]
          },
          "metadata": {
            "needs_background": "light"
          },
          "output_type": "display_data"
        }
      ],
      "source": [
        "plt.plot(Females.values,Females.index,color='b',marker='*')\n",
        "plt.xlabel(\"births\")\n",
        "plt.ylabel(\"year\")\n",
        "plt.title(\"Female births vs year\")"
      ]
    },
    {
      "cell_type": "code",
      "execution_count": 43,
      "metadata": {},
      "outputs": [
        {
          "data": {
            "text/plain": [
              "Text(0.5, 1.0, 'Male births vs year')"
            ]
          },
          "execution_count": 43,
          "metadata": {},
          "output_type": "execute_result"
        },
        {
          "data": {
            "image/png": "[encoded data removed]",
            "text/plain": [
              "<Figure size 432x288 with 1 Axes>"
            ]
          },
          "metadata": {
            "needs_background": "light"
          },
          "output_type": "display_data"
        }
      ],
      "source": [
        "Males=Total_birth_by_year_and_sex[\"M\"]\n",
        "plt.plot(Males.values,Males.index,color='r',marker='o')\n",
        "plt.xlabel(\"births\")\n",
        "plt.ylabel('year')\n",
        "plt.title(\"Male births vs year\")\n"
      ]
    },
    {
      "cell_type": "markdown",
      "metadata": {
        "id": "IBEmjae0_Wp0"
      },
      "source": [
        "## Task 3:\n",
        "Calculate the total births over the sample period by grouping the data by name and sex. Subset the group into male and female. Using these subsets, select the top and bottom 3 male and female names. In total, you should have 12 names in total. Report them as Table 2."
      ]
    },
    {
      "cell_type": "code",
      "execution_count": 11,
      "metadata": {
        "id": "VnGOP60m_ZlD"
      },
      "outputs": [
        {
          "data": {
            "text/html": [
              "<div>\n",
              "<style scoped>\n",
              "    .dataframe tbody tr th:only-of-type {\n",
              "        vertical-align: middle;\n",
              "    }\n",
              "\n",
              "    .dataframe tbody tr th {\n",
              "        vertical-align: top;\n",
              "    }\n",
              "\n",
              "    .dataframe thead th {\n",
              "        text-align: right;\n",
              "    }\n",
              "</style>\n",
              "<table border=\"1\" class=\"dataframe\">\n",
              "  <thead>\n",
              "    <tr style=\"text-align: right;\">\n",
              "      <th></th>\n",
              "      <th>births</th>\n",
              "    </tr>\n",
              "    <tr>\n",
              "      <th>name</th>\n",
              "      <th></th>\n",
              "    </tr>\n",
              "  </thead>\n",
              "  <tbody>\n",
              "    <tr>\n",
              "      <th>Aaban</th>\n",
              "      <td>20</td>\n",
              "    </tr>\n",
              "    <tr>\n",
              "      <th>Aabid</th>\n",
              "      <td>5</td>\n",
              "    </tr>\n",
              "    <tr>\n",
              "      <th>Aadam</th>\n",
              "      <td>123</td>\n",
              "    </tr>\n",
              "    <tr>\n",
              "      <th>Aadan</th>\n",
              "      <td>69</td>\n",
              "    </tr>\n",
              "    <tr>\n",
              "      <th>Aadarsh</th>\n",
              "      <td>109</td>\n",
              "    </tr>\n",
              "    <tr>\n",
              "      <th>...</th>\n",
              "      <td>...</td>\n",
              "    </tr>\n",
              "    <tr>\n",
              "      <th>Zyshon</th>\n",
              "      <td>19</td>\n",
              "    </tr>\n",
              "    <tr>\n",
              "      <th>Zyshonne</th>\n",
              "      <td>101</td>\n",
              "    </tr>\n",
              "    <tr>\n",
              "      <th>Zytavious</th>\n",
              "      <td>43</td>\n",
              "    </tr>\n",
              "    <tr>\n",
              "      <th>Zyvion</th>\n",
              "      <td>5</td>\n",
              "    </tr>\n",
              "    <tr>\n",
              "      <th>Zzyzx</th>\n",
              "      <td>5</td>\n",
              "    </tr>\n",
              "  </tbody>\n",
              "</table>\n",
              "<p>28648 rows × 1 columns</p>\n",
              "</div>"
            ],
            "text/plain": [
              "           births\n",
              "name             \n",
              "Aaban          20\n",
              "Aabid           5\n",
              "Aadam         123\n",
              "Aadan          69\n",
              "Aadarsh       109\n",
              "...           ...\n",
              "Zyshon         19\n",
              "Zyshonne      101\n",
              "Zytavious      43\n",
              "Zyvion          5\n",
              "Zzyzx           5\n",
              "\n",
              "[28648 rows x 1 columns]"
            ]
          },
          "execution_count": 11,
          "metadata": {},
          "output_type": "execute_result"
        }
      ],
      "source": [
        "Total_birth_by_name_and_sex=data.pivot_table(index=['sex','name'],values='births',aggfunc='sum')\n",
        "males=Total_birth_by_name_and_sex.loc['M']\n",
        "males"
      ]
    },
    {
      "cell_type": "code",
      "execution_count": 12,
      "metadata": {},
      "outputs": [
        {
          "data": {
            "text/html": [
              "<div>\n",
              "<style scoped>\n",
              "    .dataframe tbody tr th:only-of-type {\n",
              "        vertical-align: middle;\n",
              "    }\n",
              "\n",
              "    .dataframe tbody tr th {\n",
              "        vertical-align: top;\n",
              "    }\n",
              "\n",
              "    .dataframe thead th {\n",
              "        text-align: right;\n",
              "    }\n",
              "</style>\n",
              "<table border=\"1\" class=\"dataframe\">\n",
              "  <thead>\n",
              "    <tr style=\"text-align: right;\">\n",
              "      <th></th>\n",
              "      <th>births</th>\n",
              "    </tr>\n",
              "    <tr>\n",
              "      <th>name</th>\n",
              "      <th></th>\n",
              "    </tr>\n",
              "  </thead>\n",
              "  <tbody>\n",
              "    <tr>\n",
              "      <th>Zzyzx</th>\n",
              "      <td>5</td>\n",
              "    </tr>\n",
              "    <tr>\n",
              "      <th>Danielson</th>\n",
              "      <td>5</td>\n",
              "    </tr>\n",
              "    <tr>\n",
              "      <th>Daniellee</th>\n",
              "      <td>5</td>\n",
              "    </tr>\n",
              "    <tr>\n",
              "      <th>Montanez</th>\n",
              "      <td>5</td>\n",
              "    </tr>\n",
              "    <tr>\n",
              "      <th>Montaye</th>\n",
              "      <td>5</td>\n",
              "    </tr>\n",
              "    <tr>\n",
              "      <th>...</th>\n",
              "      <td>...</td>\n",
              "    </tr>\n",
              "    <tr>\n",
              "      <th>Christopher</th>\n",
              "      <td>524853</td>\n",
              "    </tr>\n",
              "    <tr>\n",
              "      <th>Joshua</th>\n",
              "      <td>532545</td>\n",
              "    </tr>\n",
              "    <tr>\n",
              "      <th>Matthew</th>\n",
              "      <td>541870</td>\n",
              "    </tr>\n",
              "    <tr>\n",
              "      <th>Jacob</th>\n",
              "      <td>571319</td>\n",
              "    </tr>\n",
              "    <tr>\n",
              "      <th>Michael</th>\n",
              "      <td>664116</td>\n",
              "    </tr>\n",
              "  </tbody>\n",
              "</table>\n",
              "<p>28648 rows × 1 columns</p>\n",
              "</div>"
            ],
            "text/plain": [
              "             births\n",
              "name               \n",
              "Zzyzx             5\n",
              "Danielson         5\n",
              "Daniellee         5\n",
              "Montanez          5\n",
              "Montaye           5\n",
              "...             ...\n",
              "Christopher  524853\n",
              "Joshua       532545\n",
              "Matthew      541870\n",
              "Jacob        571319\n",
              "Michael      664116\n",
              "\n",
              "[28648 rows x 1 columns]"
            ]
          },
          "execution_count": 12,
          "metadata": {},
          "output_type": "execute_result"
        }
      ],
      "source": [
        "males.sort_values(by='births')"
      ]
    },
    {
      "cell_type": "code",
      "execution_count": 13,
      "metadata": {},
      "outputs": [
        {
          "data": {
            "text/html": [
              "<div>\n",
              "<style scoped>\n",
              "    .dataframe tbody tr th:only-of-type {\n",
              "        vertical-align: middle;\n",
              "    }\n",
              "\n",
              "    .dataframe tbody tr th {\n",
              "        vertical-align: top;\n",
              "    }\n",
              "\n",
              "    .dataframe thead th {\n",
              "        text-align: right;\n",
              "    }\n",
              "</style>\n",
              "<table border=\"1\" class=\"dataframe\">\n",
              "  <thead>\n",
              "    <tr style=\"text-align: right;\">\n",
              "      <th></th>\n",
              "      <th>births</th>\n",
              "    </tr>\n",
              "    <tr>\n",
              "      <th>name</th>\n",
              "      <th></th>\n",
              "    </tr>\n",
              "  </thead>\n",
              "  <tbody>\n",
              "    <tr>\n",
              "      <th>Aabriella</th>\n",
              "      <td>5</td>\n",
              "    </tr>\n",
              "    <tr>\n",
              "      <th>Aviyonna</th>\n",
              "      <td>5</td>\n",
              "    </tr>\n",
              "    <tr>\n",
              "      <th>Kenra</th>\n",
              "      <td>5</td>\n",
              "    </tr>\n",
              "    <tr>\n",
              "      <th>Kenshayla</th>\n",
              "      <td>5</td>\n",
              "    </tr>\n",
              "    <tr>\n",
              "      <th>Kenshia</th>\n",
              "      <td>5</td>\n",
              "    </tr>\n",
              "    <tr>\n",
              "      <th>...</th>\n",
              "      <td>...</td>\n",
              "    </tr>\n",
              "    <tr>\n",
              "      <th>Sarah</th>\n",
              "      <td>328587</td>\n",
              "    </tr>\n",
              "    <tr>\n",
              "      <th>Samantha</th>\n",
              "      <td>340527</td>\n",
              "    </tr>\n",
              "    <tr>\n",
              "      <th>Jessica</th>\n",
              "      <td>350232</td>\n",
              "    </tr>\n",
              "    <tr>\n",
              "      <th>Ashley</th>\n",
              "      <td>395380</td>\n",
              "    </tr>\n",
              "    <tr>\n",
              "      <th>Emily</th>\n",
              "      <td>455432</td>\n",
              "    </tr>\n",
              "  </tbody>\n",
              "</table>\n",
              "<p>44326 rows × 1 columns</p>\n",
              "</div>"
            ],
            "text/plain": [
              "           births\n",
              "name             \n",
              "Aabriella       5\n",
              "Aviyonna        5\n",
              "Kenra           5\n",
              "Kenshayla       5\n",
              "Kenshia         5\n",
              "...           ...\n",
              "Sarah      328587\n",
              "Samantha   340527\n",
              "Jessica    350232\n",
              "Ashley     395380\n",
              "Emily      455432\n",
              "\n",
              "[44326 rows x 1 columns]"
            ]
          },
          "execution_count": 13,
          "metadata": {},
          "output_type": "execute_result"
        }
      ],
      "source": [
        "females=Total_birth_by_name_and_sex.loc['F']\n",
        "females.sort_values(by='births')"
      ]
    },
    {
      "cell_type": "code",
      "execution_count": 14,
      "metadata": {},
      "outputs": [
        {
          "data": {
            "text/html": [
              "<div>\n",
              "<style scoped>\n",
              "    .dataframe tbody tr th:only-of-type {\n",
              "        vertical-align: middle;\n",
              "    }\n",
              "\n",
              "    .dataframe tbody tr th {\n",
              "        vertical-align: top;\n",
              "    }\n",
              "\n",
              "    .dataframe thead th {\n",
              "        text-align: right;\n",
              "    }\n",
              "</style>\n",
              "<table border=\"1\" class=\"dataframe\">\n",
              "  <thead>\n",
              "    <tr style=\"text-align: right;\">\n",
              "      <th></th>\n",
              "      <th>Top 3 Males</th>\n",
              "      <th>Top 3 Females</th>\n",
              "      <th>Bottom 3 Males</th>\n",
              "      <th>Botthom 3 Females</th>\n",
              "    </tr>\n",
              "  </thead>\n",
              "  <tbody>\n",
              "    <tr>\n",
              "      <th>0</th>\n",
              "      <td>Michael</td>\n",
              "      <td>Emily</td>\n",
              "      <td>Zzyzx</td>\n",
              "      <td>Aabriella</td>\n",
              "    </tr>\n",
              "    <tr>\n",
              "      <th>1</th>\n",
              "      <td>Jacob</td>\n",
              "      <td>Ashley</td>\n",
              "      <td>Danielson</td>\n",
              "      <td>Aviyonna</td>\n",
              "    </tr>\n",
              "    <tr>\n",
              "      <th>2</th>\n",
              "      <td>Matthew</td>\n",
              "      <td>Jessica</td>\n",
              "      <td>Daniellee</td>\n",
              "      <td>Kenra</td>\n",
              "    </tr>\n",
              "  </tbody>\n",
              "</table>\n",
              "</div>"
            ],
            "text/plain": [
              "  Top 3 Males Top 3 Females Bottom 3 Males Botthom 3 Females\n",
              "0     Michael         Emily          Zzyzx         Aabriella\n",
              "1       Jacob        Ashley      Danielson          Aviyonna\n",
              "2     Matthew       Jessica      Daniellee             Kenra"
            ]
          },
          "execution_count": 14,
          "metadata": {},
          "output_type": "execute_result"
        }
      ],
      "source": [
        "pd.DataFrame({'Top 3 Males':['Michael','Jacob','Matthew'],\n",
        "'Top 3 Females':['Emily','Ashley','Jessica'],\n",
        "'Bottom 3 Males':['Zzyzx','Danielson','Daniellee'],\n",
        "'Botthom 3 Females':['Aabriella','Aviyonna','Kenra']})"
      ]
    },
    {
      "cell_type": "markdown",
      "metadata": {
        "id": "Y3GSYKew_Z8H"
      },
      "source": [
        "## Task 4:\n",
        "Using the top male and female names (two names in total), check their trends over time, i.e. plot the total births with these names from 1991 to 2010 as Figure 2. In order to do this, you would first need to create a pivot table"
      ]
    },
    {
      "cell_type": "code",
      "execution_count": 15,
      "metadata": {},
      "outputs": [
        {
          "data": {
            "text/html": [
              "<div>\n",
              "<style scoped>\n",
              "    .dataframe tbody tr th:only-of-type {\n",
              "        vertical-align: middle;\n",
              "    }\n",
              "\n",
              "    .dataframe tbody tr th {\n",
              "        vertical-align: top;\n",
              "    }\n",
              "\n",
              "    .dataframe thead th {\n",
              "        text-align: right;\n",
              "    }\n",
              "</style>\n",
              "<table border=\"1\" class=\"dataframe\">\n",
              "  <thead>\n",
              "    <tr style=\"text-align: right;\">\n",
              "      <th></th>\n",
              "      <th></th>\n",
              "      <th>births</th>\n",
              "    </tr>\n",
              "    <tr>\n",
              "      <th>name</th>\n",
              "      <th>year</th>\n",
              "      <th></th>\n",
              "    </tr>\n",
              "  </thead>\n",
              "  <tbody>\n",
              "    <tr>\n",
              "      <th rowspan=\"20\" valign=\"top\">Emily</th>\n",
              "      <th>1991</th>\n",
              "      <td>10172.0</td>\n",
              "    </tr>\n",
              "    <tr>\n",
              "      <th>1992</th>\n",
              "      <td>10932.5</td>\n",
              "    </tr>\n",
              "    <tr>\n",
              "      <th>1993</th>\n",
              "      <td>11816.0</td>\n",
              "    </tr>\n",
              "    <tr>\n",
              "      <th>1994</th>\n",
              "      <td>12089.5</td>\n",
              "    </tr>\n",
              "    <tr>\n",
              "      <th>1995</th>\n",
              "      <td>12208.5</td>\n",
              "    </tr>\n",
              "    <tr>\n",
              "      <th>1996</th>\n",
              "      <td>12589.0</td>\n",
              "    </tr>\n",
              "    <tr>\n",
              "      <th>1997</th>\n",
              "      <td>12882.5</td>\n",
              "    </tr>\n",
              "    <tr>\n",
              "      <th>1998</th>\n",
              "      <td>13106.0</td>\n",
              "    </tr>\n",
              "    <tr>\n",
              "      <th>1999</th>\n",
              "      <td>13289.5</td>\n",
              "    </tr>\n",
              "    <tr>\n",
              "      <th>2000</th>\n",
              "      <td>12989.5</td>\n",
              "    </tr>\n",
              "    <tr>\n",
              "      <th>2001</th>\n",
              "      <td>12540.0</td>\n",
              "    </tr>\n",
              "    <tr>\n",
              "      <th>2002</th>\n",
              "      <td>12242.0</td>\n",
              "    </tr>\n",
              "    <tr>\n",
              "      <th>2003</th>\n",
              "      <td>12859.5</td>\n",
              "    </tr>\n",
              "    <tr>\n",
              "      <th>2004</th>\n",
              "      <td>12563.5</td>\n",
              "    </tr>\n",
              "    <tr>\n",
              "      <th>2005</th>\n",
              "      <td>11970.0</td>\n",
              "    </tr>\n",
              "    <tr>\n",
              "      <th>2006</th>\n",
              "      <td>10698.0</td>\n",
              "    </tr>\n",
              "    <tr>\n",
              "      <th>2007</th>\n",
              "      <td>9674.5</td>\n",
              "    </tr>\n",
              "    <tr>\n",
              "      <th>2008</th>\n",
              "      <td>8711.5</td>\n",
              "    </tr>\n",
              "    <tr>\n",
              "      <th>2009</th>\n",
              "      <td>7656.5</td>\n",
              "    </tr>\n",
              "    <tr>\n",
              "      <th>2010</th>\n",
              "      <td>7096.0</td>\n",
              "    </tr>\n",
              "    <tr>\n",
              "      <th rowspan=\"20\" valign=\"top\">Michael</th>\n",
              "      <th>1991</th>\n",
              "      <td>30523.5</td>\n",
              "    </tr>\n",
              "    <tr>\n",
              "      <th>1992</th>\n",
              "      <td>27311.0</td>\n",
              "    </tr>\n",
              "    <tr>\n",
              "      <th>1993</th>\n",
              "      <td>24886.0</td>\n",
              "    </tr>\n",
              "    <tr>\n",
              "      <th>1994</th>\n",
              "      <td>22326.5</td>\n",
              "    </tr>\n",
              "    <tr>\n",
              "      <th>1995</th>\n",
              "      <td>20781.5</td>\n",
              "    </tr>\n",
              "    <tr>\n",
              "      <th>1996</th>\n",
              "      <td>19258.0</td>\n",
              "    </tr>\n",
              "    <tr>\n",
              "      <th>1997</th>\n",
              "      <td>18842.0</td>\n",
              "    </tr>\n",
              "    <tr>\n",
              "      <th>1998</th>\n",
              "      <td>18366.0</td>\n",
              "    </tr>\n",
              "    <tr>\n",
              "      <th>1999</th>\n",
              "      <td>17009.0</td>\n",
              "    </tr>\n",
              "    <tr>\n",
              "      <th>2000</th>\n",
              "      <td>16065.0</td>\n",
              "    </tr>\n",
              "    <tr>\n",
              "      <th>2001</th>\n",
              "      <td>14881.0</td>\n",
              "    </tr>\n",
              "    <tr>\n",
              "      <th>2002</th>\n",
              "      <td>14157.5</td>\n",
              "    </tr>\n",
              "    <tr>\n",
              "      <th>2003</th>\n",
              "      <td>13590.0</td>\n",
              "    </tr>\n",
              "    <tr>\n",
              "      <th>2004</th>\n",
              "      <td>12782.0</td>\n",
              "    </tr>\n",
              "    <tr>\n",
              "      <th>2005</th>\n",
              "      <td>11917.5</td>\n",
              "    </tr>\n",
              "    <tr>\n",
              "      <th>2006</th>\n",
              "      <td>11328.0</td>\n",
              "    </tr>\n",
              "    <tr>\n",
              "      <th>2007</th>\n",
              "      <td>10983.0</td>\n",
              "    </tr>\n",
              "    <tr>\n",
              "      <th>2008</th>\n",
              "      <td>10289.5</td>\n",
              "    </tr>\n",
              "    <tr>\n",
              "      <th>2009</th>\n",
              "      <td>9431.5</td>\n",
              "    </tr>\n",
              "    <tr>\n",
              "      <th>2010</th>\n",
              "      <td>8585.0</td>\n",
              "    </tr>\n",
              "  </tbody>\n",
              "</table>\n",
              "</div>"
            ],
            "text/plain": [
              "               births\n",
              "name    year         \n",
              "Emily   1991  10172.0\n",
              "        1992  10932.5\n",
              "        1993  11816.0\n",
              "        1994  12089.5\n",
              "        1995  12208.5\n",
              "        1996  12589.0\n",
              "        1997  12882.5\n",
              "        1998  13106.0\n",
              "        1999  13289.5\n",
              "        2000  12989.5\n",
              "        2001  12540.0\n",
              "        2002  12242.0\n",
              "        2003  12859.5\n",
              "        2004  12563.5\n",
              "        2005  11970.0\n",
              "        2006  10698.0\n",
              "        2007   9674.5\n",
              "        2008   8711.5\n",
              "        2009   7656.5\n",
              "        2010   7096.0\n",
              "Michael 1991  30523.5\n",
              "        1992  27311.0\n",
              "        1993  24886.0\n",
              "        1994  22326.5\n",
              "        1995  20781.5\n",
              "        1996  19258.0\n",
              "        1997  18842.0\n",
              "        1998  18366.0\n",
              "        1999  17009.0\n",
              "        2000  16065.0\n",
              "        2001  14881.0\n",
              "        2002  14157.5\n",
              "        2003  13590.0\n",
              "        2004  12782.0\n",
              "        2005  11917.5\n",
              "        2006  11328.0\n",
              "        2007  10983.0\n",
              "        2008  10289.5\n",
              "        2009   9431.5\n",
              "        2010   8585.0"
            ]
          },
          "execution_count": 15,
          "metadata": {},
          "output_type": "execute_result"
        }
      ],
      "source": [
        "top_1_male_and_1_female_data=data[(data['name']=='Michael')|(data['name']=='Emily')]\n",
        "pivot_table=top_1_male_and_1_female_data.pivot_table(index=['name','year'],values=['births'])\n",
        "pivot_table"
      ]
    },
    {
      "cell_type": "code",
      "execution_count": 16,
      "metadata": {
        "id": "2M0Bf0dz_jT-"
      },
      "outputs": [
        {
          "data": {
            "text/plain": [
              "Text(0.5, 1.0, 'Number of births of females having name Emily vs year')"
            ]
          },
          "execution_count": 16,
          "metadata": {},
          "output_type": "execute_result"
        },
        {
          "data": {
            "image/png": "[encoded data removed]",
            "text/plain": [
              "<Figure size 432x288 with 1 Axes>"
            ]
          },
          "metadata": {
            "needs_background": "light"
          },
          "output_type": "display_data"
        }
      ],
      "source": [
        "top_male_data=data[data['name']=='Michael']\n",
        "plt.bar(top_male_data['year'],top_male_data['births'])\n",
        "plt.xlabel(\"year\")\n",
        "plt.ylabel(\"births\")\n",
        "plt.title(\"Number of births of females having name Emily vs year\")"
      ]
    },
    {
      "cell_type": "code",
      "execution_count": 17,
      "metadata": {},
      "outputs": [
        {
          "data": {
            "text/plain": [
              "Text(0.5, 1.0, 'Number of births of females having name Emily vs year')"
            ]
          },
          "execution_count": 17,
          "metadata": {},
          "output_type": "execute_result"
        },
        {
          "data": {
            "image/png": "[encoded data removed]",
            "text/plain": [
              "<Figure size 432x288 with 1 Axes>"
            ]
          },
          "metadata": {
            "needs_background": "light"
          },
          "output_type": "display_data"
        }
      ],
      "source": [
        "top_female_data=data[data['name']=='Emily']\n",
        "plt.bar(top_female_data['year'],top_female_data['births'])\n",
        "plt.xlabel(\"year\")\n",
        "plt.ylabel(\"births\")\n",
        "plt.title(\"Number of births of females having name Emily vs year\")"
      ]
    }
  ],
  "metadata": {
    "colab": {
      "name": "Assignment_02.ipynb",
      "provenance": []
    },
    "kernelspec": {
      "display_name": "Python 3",
      "name": "python3"
    },
    "language_info": {
      "codemirror_mode": {
        "name": "ipython",
        "version": 3
      },
      "file_extension": ".py",
      "mimetype": "text/x-python",
      "name": "python",
      "nbconvert_exporter": "python",
      "pygments_lexer": "ipython3",
      "version": "3.7.1"
    }
  },
  "nbformat": 4,
  "nbformat_minor": 0
}
